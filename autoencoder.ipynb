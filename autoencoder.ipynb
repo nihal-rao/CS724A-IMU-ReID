{
  "nbformat": 4,
  "nbformat_minor": 0,
  "metadata": {
    "colab": {
      "provenance": []
    },
    "kernelspec": {
      "name": "python3",
      "display_name": "Python 3"
    },
    "language_info": {
      "name": "python"
    }
  },
  "cells": [
    {
      "cell_type": "code",
      "execution_count": null,
      "metadata": {
        "id": "FtXr-ZCzcRE-"
      },
      "outputs": [],
      "source": [
        "import torch \n",
        "import numpy as np\n",
        "import torch.nn as nn\n",
        "import torch.nn.functional as F\n",
        "import torch.optim as optim\n",
        "import matplotlib.pyplot as plt\n",
        "\n"
      ]
    },
    {
      "cell_type": "code",
      "source": [
        "device = torch.device('cpu')\n",
        "if torch.cuda.is_available():\n",
        "    device = torch.device('cuda')"
      ],
      "metadata": {
        "id": "P85MCqSvcVJ0"
      },
      "execution_count": null,
      "outputs": []
    },
    {
      "cell_type": "code",
      "source": [
        "from collections import defaultdict\n",
        "import random\n",
        "from sklearn.metrics import top_k_accuracy_score"
      ],
      "metadata": {
        "id": "JSOuviFNch61"
      },
      "execution_count": 228,
      "outputs": []
    },
    {
      "cell_type": "code",
      "source": [
        "model=nn.Sequential(\n",
        "      nn.Linear(INPUT_SIZE, EMBEDDING_SIZE),\n",
        "      nn.ReLU(),\n",
        "      nn.Linear(EMBEDDING_SIZE, OUTPUT_SIZE),\n",
        "      ).to(device)"
      ],
      "metadata": {
        "id": "0Av0UN9xrdvN"
      },
      "execution_count": null,
      "outputs": []
    },
    {
      "cell_type": "code",
      "source": [
        "data=np.load(\"walking_data.npz\")\n",
        "label=np.load(\"walking_labels.npz\")\n",
        "data=data.f.arr_0\n",
        "label=label.f.arr_0"
      ],
      "metadata": {
        "id": "cB4wod66tVQw"
      },
      "execution_count": 168,
      "outputs": []
    },
    {
      "cell_type": "code",
      "source": [
        "train_mask = label<=20\n",
        "\n",
        "train_label = label[train_mask]\n",
        "test_label = label[np.logical_not(train_mask)]\n",
        "data=torch.Tensor(data)\n",
        "# label=torch.Tensor(label)\n",
        "train_data = data[train_mask]\n",
        "test_data=data[np.logical_not(train_mask)]\n",
        "train_data=torch.flatten(train_data,1,2)\n",
        "test_data=torch.flatten(test_data,1,2)"
      ],
      "metadata": {
        "id": "gB6wv6nDj-wb"
      },
      "execution_count": 169,
      "outputs": []
    },
    {
      "cell_type": "code",
      "source": [
        "data.shape"
      ],
      "metadata": {
        "colab": {
          "base_uri": "https://localhost:8080/"
        },
        "id": "XGitcGB-k6ah",
        "outputId": "15252006-ce6c-4115-fbcf-7d069e254381"
      },
      "execution_count": null,
      "outputs": [
        {
          "output_type": "execute_result",
          "data": {
            "text/plain": [
              "(355, 120, 6)"
            ]
          },
          "metadata": {},
          "execution_count": 62
        }
      ]
    },
    {
      "cell_type": "code",
      "source": [
        "label.shape"
      ],
      "metadata": {
        "colab": {
          "base_uri": "https://localhost:8080/"
        },
        "id": "l4OCc3lTs7qT",
        "outputId": "315d8ac1-8d25-4ac0-e1a3-99a8ea497d11"
      },
      "execution_count": 170,
      "outputs": [
        {
          "output_type": "execute_result",
          "data": {
            "text/plain": [
              "(355,)"
            ]
          },
          "metadata": {},
          "execution_count": 170
        }
      ]
    },
    {
      "cell_type": "code",
      "source": [
        "test_label"
      ],
      "metadata": {
        "id": "PsrD4HPOuAH-",
        "colab": {
          "base_uri": "https://localhost:8080/"
        },
        "outputId": "19e24d33-a8b3-4226-eb39-498298315f2d"
      },
      "execution_count": 171,
      "outputs": [
        {
          "output_type": "execute_result",
          "data": {
            "text/plain": [
              "array([23., 23., 23., 23., 23., 23., 23., 23., 23., 23., 23., 23., 29.,\n",
              "       29., 29., 29., 29., 29., 27., 27., 27., 27., 27., 27., 24., 24.,\n",
              "       24., 24., 24., 24., 26., 26., 26., 26., 26., 26., 28., 28., 28.,\n",
              "       28., 28., 28., 22., 22., 22., 22., 29., 29., 29., 29., 29., 29.,\n",
              "       25., 25., 25., 25., 25., 25., 25., 22., 22., 22., 22., 30., 30.,\n",
              "       30., 30., 30., 30., 26., 26., 26., 26., 26., 26., 21., 21., 21.,\n",
              "       21., 21., 21., 30., 30., 30., 30., 30., 30., 21., 21., 21., 21.,\n",
              "       21., 24., 24., 24., 24., 24., 24., 27., 27., 27., 27., 27., 27.,\n",
              "       25., 25., 25., 25., 25., 25., 25., 28., 28., 28., 28., 28., 28.])"
            ]
          },
          "metadata": {},
          "execution_count": 171
        }
      ]
    },
    {
      "cell_type": "code",
      "source": [],
      "metadata": {
        "id": "tPN2Zc5YuqKF"
      },
      "execution_count": null,
      "outputs": []
    },
    {
      "cell_type": "code",
      "source": [],
      "metadata": {
        "colab": {
          "base_uri": "https://localhost:8080/"
        },
        "id": "wu5_kyvryNBO",
        "outputId": "3404bf5c-3006-4e99-9924-3488a7d25396"
      },
      "execution_count": null,
      "outputs": [
        {
          "output_type": "stream",
          "name": "stderr",
          "text": [
            "/usr/local/lib/python3.7/dist-packages/ipykernel_launcher.py:3: UserWarning: indexing with dtype torch.uint8 is now deprecated, please use a dtype torch.bool instead. (Triggered internally at  ../aten/src/ATen/native/IndexingUtils.h:27.)\n",
            "  This is separate from the ipykernel package so we can avoid doing imports until\n",
            "/usr/local/lib/python3.7/dist-packages/ipykernel_launcher.py:5: UserWarning: indexing with dtype torch.uint8 is now deprecated, please use a dtype torch.bool instead. (Triggered internally at  ../aten/src/ATen/native/IndexingUtils.h:27.)\n",
            "  \"\"\"\n"
          ]
        }
      ]
    },
    {
      "cell_type": "code",
      "source": [],
      "metadata": {
        "id": "ujAcJRfL09Z4"
      },
      "execution_count": null,
      "outputs": []
    },
    {
      "cell_type": "code",
      "source": [],
      "metadata": {
        "colab": {
          "base_uri": "https://localhost:8080/"
        },
        "id": "IJxL5eoI1Qld",
        "outputId": "ee2ca07e-d68c-48d5-d217-adf2854e60a2"
      },
      "execution_count": null,
      "outputs": [
        {
          "output_type": "execute_result",
          "data": {
            "text/plain": [
              "torch.Size([117])"
            ]
          },
          "metadata": {},
          "execution_count": 111
        }
      ]
    },
    {
      "cell_type": "code",
      "source": [
        "out=model(torch.rand(5,INPUT_SIZE))#noofels,inputdim"
      ],
      "metadata": {
        "id": "qpWW6Jl8tXLn"
      },
      "execution_count": null,
      "outputs": []
    },
    {
      "cell_type": "code",
      "source": [
        "accum=sum(out)#calculate loss on acum"
      ],
      "metadata": {
        "id": "Qj5W2Pv0uAeS"
      },
      "execution_count": null,
      "outputs": []
    },
    {
      "cell_type": "code",
      "source": [
        "accum[0].backward()"
      ],
      "metadata": {
        "id": "tI_7MolCvXaM"
      },
      "execution_count": null,
      "outputs": []
    },
    {
      "cell_type": "code",
      "source": [
        "model[0].weight.grad.shape"
      ],
      "metadata": {
        "colab": {
          "base_uri": "https://localhost:8080/"
        },
        "id": "ICe2e4pyvYjp",
        "outputId": "c9aac8f3-e064-4634-de3e-8dc520a4eefd"
      },
      "execution_count": null,
      "outputs": [
        {
          "output_type": "execute_result",
          "data": {
            "text/plain": [
              "torch.Size([64, 300])"
            ]
          },
          "metadata": {},
          "execution_count": 10
        }
      ]
    },
    {
      "cell_type": "code",
      "source": [
        "model.zero_grad()"
      ],
      "metadata": {
        "id": "x2k7WSNcv0Sw"
      },
      "execution_count": null,
      "outputs": []
    },
    {
      "cell_type": "code",
      "source": [
        "INPUT_SIZE=720\n",
        "EMBEDDING_SIZE=128\n",
        "OUTPUT_SIZE=INPUT_SIZE\n",
        "model=nn.Sequential(\n",
        "      nn.Linear(INPUT_SIZE, EMBEDDING_SIZE),\n",
        "      nn.ReLU(),\n",
        "      nn.Linear(EMBEDDING_SIZE, OUTPUT_SIZE),\n",
        "      ).to(device)\n",
        "Epochs=1000\n",
        "# inplen=720\n",
        "# input=torch.rand(inplen,INPUT_SIZE)\n",
        "lr=0.0001\n",
        "\n",
        "losses=[]\n",
        "\n",
        "\n",
        "\n",
        "  \n"
      ],
      "metadata": {
        "id": "qilkNXoSwzOK"
      },
      "execution_count": null,
      "outputs": []
    },
    {
      "cell_type": "code",
      "source": [
        "for i in range(Epochs):\n",
        "  out=model(train_data)\n",
        "  loss=torch.linalg.norm(out-train_data,2)/len(flat)\n",
        "  losses.append(loss.detach().numpy())\n",
        "  loss.backward()\n",
        "  dx1=model[0].weight.grad\n",
        "  dx2=model[2].weight.grad\n",
        "  db1=model[0].bias.grad\n",
        "  db2=model[2].bias.grad\n",
        "  with torch.no_grad():\n",
        "    model[0].weight-=lr*dx1\n",
        "    model[2].weight-=lr*dx2\n",
        "    model[0].bias-=lr*db1\n",
        "    model[2].bias-=lr*db2\n",
        "  model.zero_grad()\n",
        "\n",
        "\n"
      ],
      "metadata": {
        "id": "o0vQDo6zvgR2"
      },
      "execution_count": 239,
      "outputs": []
    },
    {
      "cell_type": "code",
      "source": [
        "plt.plot(losses)"
      ],
      "metadata": {
        "colab": {
          "base_uri": "https://localhost:8080/",
          "height": 282
        },
        "id": "WUVcGtTUwdRN",
        "outputId": "e3d2c6b3-552c-42e7-8f37-903b99c3ec47"
      },
      "execution_count": 240,
      "outputs": [
        {
          "output_type": "execute_result",
          "data": {
            "text/plain": [
              "[<matplotlib.lines.Line2D at 0x7f6aaeb73b50>]"
            ]
          },
          "metadata": {},
          "execution_count": 240
        },
        {
          "output_type": "display_data",
          "data": {
            "text/plain": [
              "<Figure size 432x288 with 1 Axes>"
            ],
            "image/png": "[encoded data removed]"
          },
          "metadata": {
            "needs_background": "light"
          }
        }
      ]
    },
    {
      "cell_type": "code",
      "source": [
        "loss"
      ],
      "metadata": {
        "colab": {
          "base_uri": "https://localhost:8080/"
        },
        "id": "YrFMLdCXw7CI",
        "outputId": "8e1f66ac-b22e-45b1-9103-0587dac36123"
      },
      "execution_count": null,
      "outputs": [
        {
          "output_type": "execute_result",
          "data": {
            "text/plain": [
              "tensor(3.3759, grad_fn=<DivBackward0>)"
            ]
          },
          "metadata": {},
          "execution_count": 98
        }
      ]
    },
    {
      "cell_type": "code",
      "source": [],
      "metadata": {
        "id": "EJRBbBgk27d8"
      },
      "execution_count": 265,
      "outputs": []
    },
    {
      "cell_type": "code",
      "source": [
        "model[0].weight.transpose"
      ],
      "metadata": {
        "colab": {
          "base_uri": "https://localhost:8080/"
        },
        "id": "t0EV36O-WeS6",
        "outputId": "bb3708c1-1a94-4e95-9fc8-5ba81babb131"
      },
      "execution_count": null,
      "outputs": [
        {
          "output_type": "execute_result",
          "data": {
            "text/plain": [
              "<function Parameter.transpose>"
            ]
          },
          "metadata": {},
          "execution_count": 19
        }
      ]
    },
    {
      "cell_type": "code",
      "source": [
        "model[0].weight.shape"
      ],
      "metadata": {
        "colab": {
          "base_uri": "https://localhost:8080/"
        },
        "id": "-Sr7mu0vW02l",
        "outputId": "9d148e9c-1d23-4852-86a9-9b0f5913155b"
      },
      "execution_count": null,
      "outputs": [
        {
          "output_type": "execute_result",
          "data": {
            "text/plain": [
              "torch.Size([64, 300])"
            ]
          },
          "metadata": {},
          "execution_count": 32
        }
      ]
    },
    {
      "cell_type": "code",
      "source": [
        "torch.matmul(model[0].weight,torch.transpose(input,0,1)).shape"
      ],
      "metadata": {
        "colab": {
          "base_uri": "https://localhost:8080/"
        },
        "id": "VQtFwKUOXPyw",
        "outputId": "3a28dd88-182f-432c-ebc4-d30c299c8842"
      },
      "execution_count": null,
      "outputs": [
        {
          "output_type": "execute_result",
          "data": {
            "text/plain": [
              "torch.Size([64, 100])"
            ]
          },
          "metadata": {},
          "execution_count": 51
        }
      ]
    },
    {
      "cell_type": "code",
      "source": [
        "torch.transpose(input,0,1)"
      ],
      "metadata": {
        "colab": {
          "base_uri": "https://localhost:8080/"
        },
        "id": "LTUvo57kaGsS",
        "outputId": "e3c3a85f-3de0-4894-ef6e-b050726a1af4"
      },
      "execution_count": null,
      "outputs": [
        {
          "output_type": "execute_result",
          "data": {
            "text/plain": [
              "tensor([[0.5577, 0.8131, 0.1511,  ..., 0.2278, 0.1950, 0.0324],\n",
              "        [0.7290, 0.6188, 0.6305,  ..., 0.4273, 0.8893, 0.3462],\n",
              "        [0.1888, 0.3974, 0.5294,  ..., 0.3098, 0.4934, 0.8843],\n",
              "        ...,\n",
              "        [0.5101, 0.7574, 0.0120,  ..., 0.0344, 0.6301, 0.0740],\n",
              "        [0.0600, 0.4531, 0.2085,  ..., 0.8200, 0.2159, 0.3827],\n",
              "        [0.6715, 0.1230, 0.2031,  ..., 0.4231, 0.5622, 0.2540]])"
            ]
          },
          "metadata": {},
          "execution_count": 47
        }
      ]
    },
    {
      "cell_type": "code",
      "source": [
        "sampled_classes=defaultdict()\n",
        "classmaps=defaultdict(list)\n",
        "for i in range(len(test_label)):\n",
        "  classmaps[test_label[i]].append(test_data[i])\n",
        "\n",
        "for i in classmaps.keys():\n",
        "  sampled_classes[i]=classmaps[i][random.randint(0,len(classmaps[i])-1)]\n",
        "\n",
        "    "
      ],
      "metadata": {
        "id": "D62XO-zyLQPP"
      },
      "execution_count": 205,
      "outputs": []
    },
    {
      "cell_type": "code",
      "source": [],
      "metadata": {
        "id": "6nz_pB-qMfCp"
      },
      "execution_count": 208,
      "outputs": []
    },
    {
      "cell_type": "code",
      "source": [
        "def getres(test,label):\n",
        "  out=torch.transpose(torch.matmul(model[0].weight,torch.transpose(test_data,0,1)),0,1)\n",
        "  dis=defaultdict()\n",
        "  result=list()\n",
        "  for j in range(len(test_label)):\n",
        "    sampled_classes=defaultdict()\n",
        "    classmaps=defaultdict(list)\n",
        "    for i in range(len(test_label)):\n",
        "      classmaps[test_label[i]].append(test_data[i])\n",
        "    for i in classmaps.keys():\n",
        "      sampled_classes[i]=classmaps[i][random.randint(0,len(classmaps[i])-1)]\n",
        "    \n",
        "    for i in sampled_classes.keys():\n",
        "      dis[i]=torch.linalg.norm(out[j]-torch.matmul(model[0].weight,(sampled_classes[i])),2)\n",
        "    tmp=[]\n",
        "    for i in sorted(dis.keys()):\n",
        "      tmp.append(dis[i].detach().numpy())\n",
        "    for i in range(len(tmp)):\n",
        "      tmp[i]=-tmp[i]\n",
        "      \n",
        "    soft = np.exp(tmp)/sum(np.exp(tmp))  \n",
        "    result.append(soft)\n",
        "\n",
        "    \n",
        "\n",
        "  return result\n",
        "\n",
        "  \n",
        "\n",
        "\n",
        "\n",
        "\n",
        "\n",
        "\n",
        "\n",
        "\n",
        "\n",
        "\n",
        "\n"
      ],
      "metadata": {
        "id": "fN-G8iFkbBv8"
      },
      "execution_count": 261,
      "outputs": []
    },
    {
      "cell_type": "code",
      "source": [
        "x=getres(test_data,test_label)"
      ],
      "metadata": {
        "id": "mQK_pfOZ2mNZ"
      },
      "execution_count": 262,
      "outputs": []
    },
    {
      "cell_type": "code",
      "source": [
        "top_k_accuracy_score(test_label,x,k=1)"
      ],
      "metadata": {
        "colab": {
          "base_uri": "https://localhost:8080/"
        },
        "id": "vYujuoJFf2yL",
        "outputId": "bdcb4f62-f306-4457-d8bb-44404d6dccae"
      },
      "execution_count": 263,
      "outputs": [
        {
          "output_type": "execute_result",
          "data": {
            "text/plain": [
              "0.3333333333333333"
            ]
          },
          "metadata": {},
          "execution_count": 263
        }
      ]
    },
    {
      "cell_type": "code",
      "source": [
        "top_k_accuracy_score(test_label,x,k=3)"
      ],
      "metadata": {
        "colab": {
          "base_uri": "https://localhost:8080/"
        },
        "id": "jCi5W6gZhc0s",
        "outputId": "6e854be2-ce69-426a-ccce-d600ca7607db"
      },
      "execution_count": 264,
      "outputs": [
        {
          "output_type": "execute_result",
          "data": {
            "text/plain": [
              "0.48717948717948717"
            ]
          },
          "metadata": {},
          "execution_count": 264
        }
      ]
    },
    {
      "cell_type": "code",
      "source": [
        "top_k_accuracy_score(test_label,x,k=5)"
      ],
      "metadata": {
        "colab": {
          "base_uri": "https://localhost:8080/"
        },
        "id": "GFpLV88JhiNc",
        "outputId": "d837d56b-c73d-4e6f-cd8f-e306c074b5c0"
      },
      "execution_count": 265,
      "outputs": [
        {
          "output_type": "execute_result",
          "data": {
            "text/plain": [
              "0.7094017094017094"
            ]
          },
          "metadata": {},
          "execution_count": 265
        }
      ]
    },
    {
      "cell_type": "code",
      "source": [],
      "metadata": {
        "id": "fr18M5tj3LZB"
      },
      "execution_count": null,
      "outputs": []
    },
    {
      "cell_type": "code",
      "source": [
        "test_label.shape"
      ],
      "metadata": {
        "colab": {
          "base_uri": "https://localhost:8080/"
        },
        "id": "-I2Vu1Bi3Vac",
        "outputId": "ca5e9359-b1d9-4127-9003-4b773b3b48cb"
      },
      "execution_count": null,
      "outputs": [
        {
          "output_type": "execute_result",
          "data": {
            "text/plain": [
              "torch.Size([117])"
            ]
          },
          "metadata": {},
          "execution_count": 114
        }
      ]
    },
    {
      "cell_type": "code",
      "source": [
        "tmp[0].shape"
      ],
      "metadata": {
        "colab": {
          "base_uri": "https://localhost:8080/"
        },
        "id": "jC-8d-Cz3ia7",
        "outputId": "b9716713-a0e2-4123-9393-143593512135"
      },
      "execution_count": null,
      "outputs": [
        {
          "output_type": "execute_result",
          "data": {
            "text/plain": [
              "torch.Size([64])"
            ]
          },
          "metadata": {},
          "execution_count": 123
        }
      ]
    },
    {
      "cell_type": "code",
      "source": [
        "torch.matmul(model[0].weight,sampled_classes[30])"
      ],
      "metadata": {
        "colab": {
          "base_uri": "https://localhost:8080/"
        },
        "id": "1LjK9inKE-ru",
        "outputId": "aa020d21-743f-4eba-cc59-9ed8d10f665c"
      },
      "execution_count": 218,
      "outputs": [
        {
          "output_type": "execute_result",
          "data": {
            "text/plain": [
              "tensor([ 4.2565, -1.3604,  2.0907, -0.8187, -0.4037, -2.4707, -3.1666,  6.1217,\n",
              "        -2.0057, -3.1877, -0.6512, -2.0278,  5.6821, -1.6493, 18.4333,  4.7704,\n",
              "        -1.1537, -2.6789, -3.6675, -2.1137, -4.2887, -3.1078,  5.9577,  7.5305,\n",
              "        -1.9205,  9.7390,  1.4978,  6.9818, -2.2137,  8.5090, -5.3445, -1.5585,\n",
              "        -1.7393, 10.6323, -0.3552,  9.6060, -3.3463, -1.7799,  1.5929,  5.5509,\n",
              "        -1.3394, 10.8002,  4.4214, -0.1823,  2.8823, -2.7150,  2.5288, -2.4996,\n",
              "        -1.4093, -2.5644, -4.9027, 11.8386, -2.6780, 11.0619, -1.0192, 12.2552,\n",
              "        -1.1464, -1.2348, -3.6113, -1.2274, -2.0912, -1.5352, -1.3476,  2.2571],\n",
              "       grad_fn=<MvBackward0>)"
            ]
          },
          "metadata": {},
          "execution_count": 218
        }
      ]
    },
    {
      "cell_type": "code",
      "source": [
        "sampled_classes[30].shape"
      ],
      "metadata": {
        "id": "9-ZyFMgtLWse",
        "colab": {
          "base_uri": "https://localhost:8080/"
        },
        "outputId": "d45bf8d1-c5ee-4fd4-de78-3f3002e705c1"
      },
      "execution_count": 210,
      "outputs": [
        {
          "output_type": "execute_result",
          "data": {
            "text/plain": [
              "torch.Size([720])"
            ]
          },
          "metadata": {},
          "execution_count": 210
        }
      ]
    },
    {
      "cell_type": "code",
      "source": [
        "model[0].weight.shape"
      ],
      "metadata": {
        "colab": {
          "base_uri": "https://localhost:8080/"
        },
        "id": "IQjYNklFV_kN",
        "outputId": "439e4dfd-e2f1-44f7-b2ad-568ca9ea8c94"
      },
      "execution_count": 212,
      "outputs": [
        {
          "output_type": "execute_result",
          "data": {
            "text/plain": [
              "torch.Size([64, 720])"
            ]
          },
          "metadata": {},
          "execution_count": 212
        }
      ]
    },
    {
      "cell_type": "code",
      "source": [
        "torch.matmul(model[0].weight,(sampled_classes[30])).shape"
      ],
      "metadata": {
        "colab": {
          "base_uri": "https://localhost:8080/"
        },
        "id": "Cn2KRTTsa9jh",
        "outputId": "e961d1f9-f636-4083-a4fa-f2572b221a4d"
      },
      "execution_count": 215,
      "outputs": [
        {
          "output_type": "execute_result",
          "data": {
            "text/plain": [
              "torch.Size([64])"
            ]
          },
          "metadata": {},
          "execution_count": 215
        }
      ]
    },
    {
      "cell_type": "code",
      "source": [
        "torch.transpose(torch.matmul(model[0].weight,torch.transpose(test_data,0,1)),0,1)[0]-torch.matmul(model[0].weight,(sampled_classes[30]))"
      ],
      "metadata": {
        "colab": {
          "base_uri": "https://localhost:8080/"
        },
        "id": "KsoD6s8nbIfb",
        "outputId": "c88cde87-19fd-4d2a-914a-d70a8ffdb2c9"
      },
      "execution_count": 225,
      "outputs": [
        {
          "output_type": "execute_result",
          "data": {
            "text/plain": [
              "tensor([-0.0402,  0.0778,  1.8058, -2.3991, -0.2574,  1.2662,  0.9713, -0.8842,\n",
              "        -1.5171,  0.6892, -0.9853,  0.0825,  1.4043, -0.5856, -1.1596,  0.4932,\n",
              "        -2.2247,  2.0677,  0.3661, -0.4671,  0.7638,  0.2454, -3.2358, -0.2213,\n",
              "         0.2458, -1.7151,  1.2082,  1.4072,  0.5134, -1.5309, -0.0703, -0.3724,\n",
              "        -1.1837, -1.4596, -2.1969, -0.4875,  3.1668, -1.1435,  2.4620, -1.8393,\n",
              "         0.1828, -3.5376,  0.3450, -1.1250, -1.6952,  0.5976, -0.4327,  0.7443,\n",
              "        -1.8676,  1.2341,  2.0828, -0.6235,  1.2514,  0.9495, -0.8273, -0.3569,\n",
              "         1.1728,  0.1946,  0.3194, -1.4630, -1.0952, -0.9275,  0.0082, -0.6054],\n",
              "       grad_fn=<SubBackward0>)"
            ]
          },
          "metadata": {},
          "execution_count": 225
        }
      ]
    },
    {
      "cell_type": "code",
      "source": [
        "torch.transpose(torch.matmul(model[0].weight,torch.transpose(test_data,0,1)),0,1)[0].shape"
      ],
      "metadata": {
        "colab": {
          "base_uri": "https://localhost:8080/"
        },
        "id": "QyZPzeRIbhBh",
        "outputId": "1b06d86f-3c98-4d4b-c5dc-264a706c6de9"
      },
      "execution_count": 223,
      "outputs": [
        {
          "output_type": "execute_result",
          "data": {
            "text/plain": [
              "torch.Size([64])"
            ]
          },
          "metadata": {},
          "execution_count": 223
        }
      ]
    },
    {
      "cell_type": "code",
      "source": [
        "torch.matmul(model[0].weight,(sampled_classes[30])).shape"
      ],
      "metadata": {
        "colab": {
          "base_uri": "https://localhost:8080/"
        },
        "id": "tb2qwV2Lbubu",
        "outputId": "f8e94b84-b7d5-45c2-d7d1-d73e3103889d"
      },
      "execution_count": 224,
      "outputs": [
        {
          "output_type": "execute_result",
          "data": {
            "text/plain": [
              "torch.Size([64])"
            ]
          },
          "metadata": {},
          "execution_count": 224
        }
      ]
    },
    {
      "cell_type": "code",
      "source": [],
      "metadata": {
        "id": "hlJ-7KLZbzt9"
      },
      "execution_count": null,
      "outputs": []
    },
    {
      "cell_type": "code",
      "source": [],
      "metadata": {
        "id": "hK1Lc9aTen_N"
      },
      "execution_count": null,
      "outputs": []
    }
  ]
}