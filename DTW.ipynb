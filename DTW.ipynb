{
 "cells": [
  {
   "cell_type": "code",
   "execution_count": 34,
   "id": "30fbcd3f",
   "metadata": {},
   "outputs": [],
   "source": [
    "import numpy as np\n",
    "import random\n",
    "import math\n",
    "from progressbar import ProgressBar\n",
    "from sklearn.metrics import top_k_accuracy_score"
   ]
  },
  {
   "cell_type": "code",
   "execution_count": 35,
   "id": "1e346404",
   "metadata": {},
   "outputs": [],
   "source": [
    "data_tmp = np.load(\"walking_data.npz\")\n",
    "labels_tmp = np.load(\"walking_labels.npz\")"
   ]
  },
  {
   "cell_type": "code",
   "execution_count": 36,
   "id": "690c695d",
   "metadata": {},
   "outputs": [],
   "source": [
    "data = data_tmp.f.arr_0\n",
    "labels = labels_tmp.f.arr_0"
   ]
  },
  {
   "cell_type": "code",
   "execution_count": 45,
   "id": "960a7d35",
   "metadata": {},
   "outputs": [],
   "source": [
    "test_data = []\n",
    "labels_test_data = []"
   ]
  },
  {
   "cell_type": "code",
   "execution_count": 46,
   "id": "be976b0a",
   "metadata": {},
   "outputs": [],
   "source": [
    "\n",
    "arr = [19, 7, 6,  8,  9, 11, 12, 15, 16, 17]\n",
    "arr.sort()\n",
    "for i in range(10):\n",
    "    idx = np.where(labels == arr[i])[0]\n",
    "    for j in idx:\n",
    "        test_data.append(data[j])\n",
    "        labels_test_data.append(i)"
   ]
  },
  {
   "cell_type": "code",
   "execution_count": 47,
   "id": "6b0d4899",
   "metadata": {},
   "outputs": [],
   "source": [
    "test_data = np.array(test_data)\n",
    "labels_test_data = np.array(labels_test_data)"
   ]
  },
  {
   "cell_type": "code",
   "execution_count": 51,
   "id": "19408ec5",
   "metadata": {},
   "outputs": [
    {
     "data": {
      "text/plain": [
       "array([0, 0, 0, 0, 0, 0, 0, 0, 0, 0, 0, 0, 1, 1, 1, 1, 1, 1, 1, 1, 1, 1,\n",
       "       1, 1, 2, 2, 2, 2, 2, 2, 2, 2, 2, 3, 3, 3, 3, 3, 3, 3, 3, 3, 3, 3,\n",
       "       3, 4, 4, 4, 4, 4, 4, 4, 4, 4, 4, 4, 4, 5, 5, 5, 5, 5, 5, 5, 5, 5,\n",
       "       5, 6, 6, 6, 6, 6, 6, 6, 6, 6, 6, 6, 6, 7, 7, 7, 7, 7, 7, 7, 7, 7,\n",
       "       7, 8, 8, 8, 8, 8, 8, 8, 8, 8, 8, 8, 8, 9, 9, 9, 9, 9, 9, 9, 9, 9,\n",
       "       9, 9])"
      ]
     },
     "execution_count": 51,
     "metadata": {},
     "output_type": "execute_result"
    }
   ],
   "source": [
    "labels_test_data"
   ]
  },
  {
   "cell_type": "code",
   "execution_count": 32,
   "id": "6e38d07f",
   "metadata": {},
   "outputs": [],
   "source": [
    "# for index in idx:\n",
    "#     test_data.append(data[index])\n",
    "#     labels_test_data.append(labels[index])"
   ]
  },
  {
   "cell_type": "code",
   "execution_count": 43,
   "id": "7f6dcce1",
   "metadata": {},
   "outputs": [],
   "source": [
    "# test_data = np.array(test_data)\n",
    "\n",
    "# labels_test_data = np.array(labels_test_data)"
   ]
  },
  {
   "cell_type": "code",
   "execution_count": 45,
   "id": "1eaa62c2",
   "metadata": {},
   "outputs": [
    {
     "data": {
      "text/plain": [
       "21.0"
      ]
     },
     "execution_count": 45,
     "metadata": {},
     "output_type": "execute_result"
    }
   ],
   "source": [
    "min(labels_test_data)"
   ]
  },
  {
   "cell_type": "code",
   "execution_count": 53,
   "id": "dd16be3d",
   "metadata": {},
   "outputs": [],
   "source": [
    "def dtw(x, y):\n",
    "    mat = np.zeros((x.size+1, y.size+1), dtype = float)\n",
    "    mat[0, :] = math.inf\n",
    "    mat[:, 0] = math.inf\n",
    "    mat[0, 0] = 0\n",
    "    \n",
    "    for i in range(1, x.size+1):\n",
    "        for j in range(1, y.size+1):\n",
    "            mat[i, j] = abs(x[i-1] - y[j-1]) + min(mat[i-1, j-1], mat[i-1, j], mat[i, j-1])\n",
    "    \n",
    "    return mat[x.size, y.size]"
   ]
  },
  {
   "cell_type": "code",
   "execution_count": 99,
   "id": "85f1027f",
   "metadata": {},
   "outputs": [
    {
     "name": "stderr",
     "output_type": "stream",
     "text": [
      "100% |########################################################################|\n"
     ]
    }
   ],
   "source": [
    "acc = []\n",
    "y_score = []\n",
    "pbar = ProgressBar()\n",
    "for i in pbar(range(112)):\n",
    "    trial = []\n",
    "    total_results = []\n",
    "    for l in range(10):\n",
    "#         labels_idx = np.where(labels_test_data == l)[0]\n",
    "#         print(labels_idx.shape)\n",
    "        rand_idx = i\n",
    "        while rand_idx == i:\n",
    "            cl_samples = test_data[labels_test_data==l]\n",
    "            rand_idx = np.random.choice(cl_samples.shape[0])\n",
    "#         features = test_data[labels_idx[rand_idx]]\n",
    "        trial.append(cl_samples[rand_idx])\n",
    "    true_label = labels_test_data[i]\n",
    "    cost_resp_cand = []\n",
    "    query = test_data[i]\n",
    "    for cand in trial:\n",
    "#         print(cand.shape)\n",
    "        cost = 0\n",
    "        for k in range(0, 6):\n",
    "            cost += dtw(query[:, k], cand[:, k])\n",
    "        cost -= random.randint(-100,100)\n",
    "        cost_resp_cand.append(cost)\n",
    "    pred = np.argmin(cost_resp_cand)\n",
    "    y_score.append(cost_resp_cand)\n",
    "    acc.append(pred == true_label)\n",
    "        "
   ]
  },
  {
   "cell_type": "code",
   "execution_count": 100,
   "id": "e4b34ebf",
   "metadata": {},
   "outputs": [
    {
     "data": {
      "text/plain": [
       "0.4017857142857143"
      ]
     },
     "execution_count": 100,
     "metadata": {},
     "output_type": "execute_result"
    }
   ],
   "source": [
    "np.average(acc)\n",
    "# np.average(acc)"
   ]
  },
  {
   "cell_type": "code",
   "execution_count": 101,
   "id": "294d0ee0",
   "metadata": {},
   "outputs": [],
   "source": [
    "y_score= np.array(y_score)"
   ]
  },
  {
   "cell_type": "code",
   "execution_count": 102,
   "id": "64951212",
   "metadata": {},
   "outputs": [],
   "source": [
    "y_score = -y_score"
   ]
  },
  {
   "cell_type": "code",
   "execution_count": 103,
   "id": "0eb598b2",
   "metadata": {},
   "outputs": [],
   "source": [
    "y_true = np.array(labels_test_data).astype(int)"
   ]
  },
  {
   "cell_type": "code",
   "execution_count": 124,
   "id": "34b48a24",
   "metadata": {},
   "outputs": [
    {
     "data": {
      "text/plain": [
       "(117,)"
      ]
     },
     "execution_count": 124,
     "metadata": {},
     "output_type": "execute_result"
    }
   ],
   "source": [
    "np.array(y_score_norm).shape\n",
    "y_true.shape"
   ]
  },
  {
   "cell_type": "code",
   "execution_count": 58,
   "id": "7197f95c",
   "metadata": {},
   "outputs": [
    {
     "data": {
      "text/plain": [
       "array([0, 0, 0, 0, 0, 0, 0, 0, 0, 0, 0, 0, 1, 1, 1, 1, 1, 1, 1, 1, 1, 1,\n",
       "       1, 1, 2, 2, 2, 2, 2, 2, 2, 2, 2, 3, 3, 3, 3, 3, 3, 3, 3, 3, 3, 3,\n",
       "       3, 4, 4, 4, 4, 4, 4, 4, 4, 4, 4, 4, 4, 5, 5, 5, 5, 5, 5, 5, 5, 5,\n",
       "       5, 6, 6, 6, 6, 6, 6, 6, 6, 6, 6, 6, 6, 7, 7, 7, 7, 7, 7, 7, 7, 7,\n",
       "       7, 8, 8, 8, 8, 8, 8, 8, 8, 8, 8, 8, 8, 9, 9, 9, 9, 9, 9, 9, 9, 9,\n",
       "       9, 9])"
      ]
     },
     "execution_count": 58,
     "metadata": {},
     "output_type": "execute_result"
    }
   ],
   "source": [
    "y_true"
   ]
  },
  {
   "cell_type": "code",
   "execution_count": 104,
   "id": "e4c64aa7",
   "metadata": {},
   "outputs": [
    {
     "data": {
      "text/plain": [
       "0.4017857142857143"
      ]
     },
     "execution_count": 104,
     "metadata": {},
     "output_type": "execute_result"
    }
   ],
   "source": [
    "top_k_accuracy_score(y_true, y_score, k = 1)"
   ]
  },
  {
   "cell_type": "code",
   "execution_count": 105,
   "id": "a9103ff2",
   "metadata": {},
   "outputs": [
    {
     "data": {
      "text/plain": [
       "0.7142857142857143"
      ]
     },
     "execution_count": 105,
     "metadata": {},
     "output_type": "execute_result"
    }
   ],
   "source": [
    "top_k_accuracy_score(y_true, y_score, k = 3)"
   ]
  },
  {
   "cell_type": "code",
   "execution_count": 106,
   "id": "18c89764",
   "metadata": {},
   "outputs": [
    {
     "data": {
      "text/plain": [
       "0.8125"
      ]
     },
     "execution_count": 106,
     "metadata": {},
     "output_type": "execute_result"
    }
   ],
   "source": [
    "top_k_accuracy_score(y_true, y_score, k = 5)"
   ]
  },
  {
   "cell_type": "code",
   "execution_count": 33,
   "id": "828c2daa",
   "metadata": {},
   "outputs": [
    {
     "data": {
      "text/plain": [
       "10"
      ]
     },
     "execution_count": 33,
     "metadata": {},
     "output_type": "execute_result"
    }
   ],
   "source": [
    "arr1 = [19, 7, 6,  8,  9, 11, 12, 15, 16, 17]\n",
    "len(arr1)"
   ]
  }
 ],
 "metadata": {
  "kernelspec": {
   "display_name": "Python 3 (ipykernel)",
   "language": "python",
   "name": "python3"
  },
  "language_info": {
   "codemirror_mode": {
    "name": "ipython",
    "version": 3
   },
   "file_extension": ".py",
   "mimetype": "text/x-python",
   "name": "python",
   "nbconvert_exporter": "python",
   "pygments_lexer": "ipython3",
   "version": "3.10.7"
  }
 },
 "nbformat": 4,
 "nbformat_minor": 5
}
